{
 "cells": [
  {
   "cell_type": "code",
   "execution_count": 5,
   "id": "c5da4c76-b398-4469-8a74-e521dca2b4ea",
   "metadata": {},
   "outputs": [],
   "source": [
    "import os\n",
    "import sys\n",
    "sys.path.append('../..')\n",
    "\n",
    "from dotenv import load_dotenv, find_dotenv\n",
    "_ = load_dotenv(find_dotenv()) # read local .env file\n",
    "from langchain.document_loaders import WebBaseLoader\n",
    "loader = WebBaseLoader(\"https://en.wikipedia.org/wiki/David_Lynch\")"
   ]
  },
  {
   "cell_type": "code",
   "execution_count": 6,
   "id": "f5b67219-be73-412c-af61-8a7ab6691781",
   "metadata": {},
   "outputs": [],
   "source": [
    "docs = loader.load()"
   ]
  },
  {
   "cell_type": "code",
   "execution_count": 7,
   "id": "05dffa0d-16c5-44e8-902f-d02724332efe",
   "metadata": {},
   "outputs": [],
   "source": [
    "from langchain.text_splitter import RecursiveCharacterTextSplitter"
   ]
  },
  {
   "cell_type": "code",
   "execution_count": 82,
   "id": "ed79ba91-5b2a-4c3d-a80e-096693ab9014",
   "metadata": {},
   "outputs": [],
   "source": [
    "chunk_size =500\n",
    "chunk_overlap = 100"
   ]
  },
  {
   "cell_type": "code",
   "execution_count": 83,
   "id": "dc849156-6001-44fc-bcbc-2de3128f2a06",
   "metadata": {},
   "outputs": [],
   "source": [
    "r_splitter = RecursiveCharacterTextSplitter(\n",
    "    chunk_size=chunk_size,\n",
    "    chunk_overlap=chunk_overlap,\n",
    "    separators=[\"\\n\\n\", \"\\n\", \" \", \"\"],\n",
    "    length_function = len\n",
    ")"
   ]
  },
  {
   "cell_type": "code",
   "execution_count": 84,
   "id": "b1ba58b2-c010-4d69-9dae-6c490908bf79",
   "metadata": {},
   "outputs": [],
   "source": [
    "chunks = r_splitter.split_documents(docs)"
   ]
  },
  {
   "cell_type": "code",
   "execution_count": 85,
   "id": "6098f8a1-b2d1-4ed6-b1c8-6c8576c19b7a",
   "metadata": {},
   "outputs": [
    {
     "data": {
      "text/plain": [
       "1"
      ]
     },
     "execution_count": 85,
     "metadata": {},
     "output_type": "execute_result"
    }
   ],
   "source": [
    "len(docs)"
   ]
  },
  {
   "cell_type": "code",
   "execution_count": 86,
   "id": "524544a5-78f1-4acc-8b99-3891ee3f381a",
   "metadata": {},
   "outputs": [
    {
     "data": {
      "text/plain": [
       "447"
      ]
     },
     "execution_count": 86,
     "metadata": {},
     "output_type": "execute_result"
    }
   ],
   "source": [
    "len(chunks)"
   ]
  },
  {
   "cell_type": "code",
   "execution_count": 8,
   "id": "88b9a6b0-53d3-483b-8771-12bb4a3fbf0b",
   "metadata": {},
   "outputs": [],
   "source": [
    "from langchain_google_genai import GoogleGenerativeAIEmbeddings"
   ]
  },
  {
   "cell_type": "code",
   "execution_count": 9,
   "id": "1af8cbc5-62b7-4d5a-9bae-fd3fa1d8264f",
   "metadata": {},
   "outputs": [
    {
     "name": "stdin",
     "output_type": "stream",
     "text": [
      "Provide your Google API key here ········\n"
     ]
    }
   ],
   "source": [
    "import getpass\n",
    "import os\n",
    "\n",
    "if \"GOOGLE_API_KEY\" not in os.environ:\n",
    "    os.environ[\"GOOGLE_API_KEY\"] = getpass.getpass(\"Provide your Google API key here\")"
   ]
  },
  {
   "cell_type": "code",
   "execution_count": 10,
   "id": "7b76d3cb-00fb-4b02-b20f-19de2cf7184d",
   "metadata": {},
   "outputs": [],
   "source": [
    "embeddings = GoogleGenerativeAIEmbeddings(model=\"models/text-embedding-004\")"
   ]
  },
  {
   "cell_type": "code",
   "execution_count": 12,
   "id": "04c44b23-f66e-4ea6-a743-d0065a2ed2dd",
   "metadata": {},
   "outputs": [],
   "source": [
    "from langchain_pinecone import PineconeVectorStore\n",
    "from pinecone import Pinecone\n",
    "\n",
    "pc = Pinecone(api_key=\"\")\n",
    "index = pc.Index(\"wikrag\")\n",
    "\n",
    "vector_store = PineconeVectorStore(embedding=embeddings, index=index)"
   ]
  },
  {
   "cell_type": "code",
   "execution_count": 108,
   "id": "fc04ca21-5295-4441-8593-215b78163e76",
   "metadata": {},
   "outputs": [],
   "source": [
    "document_ids = vector_store.add_documents(documents=chunks)"
   ]
  },
  {
   "cell_type": "code",
   "execution_count": 13,
   "id": "526045d6-9829-43a0-a4d2-da8eeaaec3c0",
   "metadata": {},
   "outputs": [
    {
     "name": "stdout",
     "output_type": "stream",
     "text": [
      "* David Keith Lynch was born in Missoula, Montana, on January 20, 1946.[7]: 1  The first film he saw was Henry King's Wait till the Sun Shines, Nellie (1952).[8] His father, Donald Walton Lynch (1915–2007), was a research scientist working for the U.S. Department of Agriculture (USDA), and his mother, Edwina \"Sunny\" Lynch (née Sundholm; 1919–2004), was an English language tutor. Two of Lynch's maternal great-grandparents were Finnish-Swedish immigrants who arrived in the U.S. during the 19th\n",
      "* Retrieved from \"https://en.wikipedia.org/w/index.php?title=David_Lynch&oldid=1281640660\"\n"
     ]
    }
   ],
   "source": [
    "question = \"where was david lynch born?\"\n",
    "results = vector_store.similarity_search(\n",
    "    question,\n",
    "    k=2,\n",
    ")\n",
    "for res in results:\n",
    "    print(f\"* {res.page_content}\")"
   ]
  },
  {
   "cell_type": "code",
   "execution_count": 15,
   "id": "19124699-ccb4-425c-bd97-d0f19cfdfd9e",
   "metadata": {},
   "outputs": [
    {
     "name": "stdin",
     "output_type": "stream",
     "text": [
      "Enter API key for Groq:  ········\n"
     ]
    }
   ],
   "source": [
    "if not os.environ.get(\"GROQ_API_KEY\"):\n",
    "  os.environ[\"GROQ_API_KEY\"] = getpass.getpass(\"Enter API key for Groq: \")\n"
   ]
  },
  {
   "cell_type": "code",
   "execution_count": 16,
   "id": "c6d6afe6-cfcc-4af1-bbe1-5999e2b6b003",
   "metadata": {
    "scrolled": true
   },
   "outputs": [],
   "source": [
    "from langchain.chat_models import init_chat_model\n",
    "\n",
    "llm = init_chat_model(\"llama3-8b-8192\", model_provider=\"groq\")"
   ]
  },
  {
   "cell_type": "code",
   "execution_count": 17,
   "id": "3833b05e-b9b5-4fd8-8d48-386c3692f889",
   "metadata": {},
   "outputs": [],
   "source": [
    "from langchain.chains import RetrievalQA"
   ]
  },
  {
   "cell_type": "code",
   "execution_count": 18,
   "id": "ae95f14a-7939-4312-91cb-fbb737f9d613",
   "metadata": {},
   "outputs": [],
   "source": [
    "qa_chain = RetrievalQA.from_chain_type(\n",
    "    llm,\n",
    "    retriever=vector_store.as_retriever()\n",
    ")"
   ]
  },
  {
   "cell_type": "code",
   "execution_count": null,
   "id": "51f8e48b-3a68-49a9-815a-728e1f19b32b",
   "metadata": {},
   "outputs": [],
   "source": [
    "result = qa_chain({\"query\":question})"
   ]
  },
  {
   "cell_type": "code",
   "execution_count": null,
   "id": "80b037f4-9d36-4065-b869-9015b0ca4710",
   "metadata": {},
   "outputs": [],
   "source": [
    "result[\"result\"]"
   ]
  },
  {
   "cell_type": "code",
   "execution_count": 26,
   "id": "0e976df5-c7d6-4b4a-bb5d-d62a9f82f898",
   "metadata": {},
   "outputs": [],
   "source": [
    "question = \"did david win oscar?\""
   ]
  },
  {
   "cell_type": "code",
   "execution_count": 27,
   "id": "12a2a203-af9e-4a5d-9312-12841ba839cf",
   "metadata": {},
   "outputs": [],
   "source": [
    "result = qa_chain({\"query\":question})"
   ]
  },
  {
   "cell_type": "code",
   "execution_count": 28,
   "id": "f82b4ce4-1573-4b5f-b923-1b4068844409",
   "metadata": {},
   "outputs": [
    {
     "data": {
      "text/plain": [
       "'According to the provided context, David Lynch has not won an Academy Award (Oscar) directly. However, he has received an Academy Honorary Award in 2025, which is a non-competitive award given for his contributions to the film industry.'"
      ]
     },
     "execution_count": 28,
     "metadata": {},
     "output_type": "execute_result"
    }
   ],
   "source": [
    "result[\"result\"]"
   ]
  },
  {
   "cell_type": "code",
   "execution_count": null,
   "id": "0a71034d-8712-4549-93b9-bb503d5659c9",
   "metadata": {},
   "outputs": [],
   "source": []
  }
 ],
 "metadata": {
  "kernelspec": {
   "display_name": "dingdong",
   "language": "python",
   "name": "dingdong"
  },
  "language_info": {
   "codemirror_mode": {
    "name": "ipython",
    "version": 3
   },
   "file_extension": ".py",
   "mimetype": "text/x-python",
   "name": "python",
   "nbconvert_exporter": "python",
   "pygments_lexer": "ipython3",
   "version": "3.9.21"
  }
 },
 "nbformat": 4,
 "nbformat_minor": 5
}
